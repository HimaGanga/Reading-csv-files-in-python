{
 "cells": [
  {
   "cell_type": "code",
   "execution_count": 1,
   "metadata": {
    "_cell_guid": "b1076dfc-b9ad-4769-8c92-a6c4dae69d19",
    "_uuid": "8f2839f25d086af736a60e9eeb907d3b93b6e0e5"
   },
   "outputs": [
    {
     "name": "stdout",
     "output_type": "stream",
     "text": [
      "/kaggle/input/salesdata/multi-directory/1999/1999.csv\n",
      "/kaggle/input/salesdata/multi-directory/1985/1985.csv\n",
      "/kaggle/input/salesdata/multi-directory/2009/2009.csv\n",
      "/kaggle/input/salesdata/multi-directory/2002/2002.csv\n",
      "/kaggle/input/salesdata/multi-directory/1998/1998.csv\n",
      "/kaggle/input/salesdata/multi-directory/2004/2004.csv\n",
      "/kaggle/input/salesdata/multi-directory/2007/2007.csv\n",
      "/kaggle/input/salesdata/multi-directory/1997/1997.csv\n",
      "/kaggle/input/salesdata/multi-directory/1987/1987.csv\n",
      "/kaggle/input/samplebigmartdata/big_mart_sales_top_row_error.csv\n"
     ]
    }
   ],
   "source": [
    "# This Python 3 environment comes with many helpful analytics libraries installed\n",
    "# It is defined by the kaggle/python Docker image: https://github.com/kaggle/docker-python\n",
    "# For example, here's several helpful packages to load\n",
    "\n",
    "import numpy as np # linear algebra\n",
    "import pandas as pd # data processing, CSV file I/O (e.g. pd.read_csv)\n",
    "\n",
    "# Input data files are available in the read-only \"../input/\" directory\n",
    "# For example, running this (by clicking run or pressing Shift+Enter) will list all files under the input directory\n",
    "\n",
    "import os\n",
    "for dirname, _, filenames in os.walk('/kaggle/input'):\n",
    "    for filename in filenames:\n",
    "        print(os.path.join(dirname, filename))\n",
    "\n",
    "# You can write up to 5GB to the current directory (/kaggle/working/) that gets preserved as output when you create a version using \"Save & Run All\" \n",
    "# You can also write temporary files to /kaggle/temp/, but they won't be saved outside of the current session"
   ]
  },
  {
   "cell_type": "code",
   "execution_count": 2,
   "metadata": {
    "_cell_guid": "79c7e3d0-c299-4dcb-8224-4455121ee9b0",
    "_uuid": "d629ff2d2480ee46fbb7e2d37f6b5fab8052498a"
   },
   "outputs": [
    {
     "data": {
      "text/plain": [
       "'\\n\\n### Challenges with reading the csv file:\\n\\n1. Read the data except the first few rows in the file.\\n2. Read files present in multiple directories.\\n3. If the dataset is bigger in size, we can read few rows only.\\n4. If the dataset has large number of columns, read only specific columns\\n\\n'"
      ]
     },
     "execution_count": 2,
     "metadata": {},
     "output_type": "execute_result"
    }
   ],
   "source": [
    "\"\"\"\n",
    "\n",
    "### Challenges with reading the csv file:\n",
    "\n",
    "1. Read the data except the first few rows in the file.\n",
    "2. Read files present in multiple directories.\n",
    "3. If the dataset is bigger in size, we can read few rows only.\n",
    "4. If the dataset has large number of columns, read only specific columns\n",
    "\n",
    "\"\"\""
   ]
  },
  {
   "cell_type": "code",
   "execution_count": 3,
   "metadata": {},
   "outputs": [
    {
     "name": "stdout",
     "output_type": "stream",
     "text": [
      "     Item_Identifier  Item_Weight Item_Fat_Content  Item_Visibility  \\\n",
      "0              FDA15        9.300          Low Fat         0.016047   \n",
      "1              DRC01        5.920          Regular         0.019278   \n",
      "2              FDN15       17.500          Low Fat         0.016760   \n",
      "3              FDX07       19.200          Regular         0.000000   \n",
      "4              NCD19        8.930          Low Fat         0.000000   \n",
      "...              ...          ...              ...              ...   \n",
      "8518           FDF22        6.865          Low Fat         0.056783   \n",
      "8519           FDS36        8.380          Regular         0.046982   \n",
      "8520           NCJ29       10.600          Low Fat         0.035186   \n",
      "8521           FDN46        7.210          Regular         0.145221   \n",
      "8522           DRG01       14.800          Low Fat         0.044878   \n",
      "\n",
      "                  Item_Type  Item_MRP Outlet_Identifier  \\\n",
      "0                     Dairy  249.8092            OUT049   \n",
      "1               Soft Drinks   48.2692            OUT018   \n",
      "2                      Meat  141.6180            OUT049   \n",
      "3     Fruits and Vegetables  182.0950            OUT010   \n",
      "4                 Household   53.8614            OUT013   \n",
      "...                     ...       ...               ...   \n",
      "8518            Snack Foods  214.5218            OUT013   \n",
      "8519           Baking Goods  108.1570            OUT045   \n",
      "8520     Health and Hygiene   85.1224            OUT035   \n",
      "8521            Snack Foods  103.1332            OUT018   \n",
      "8522            Soft Drinks   75.4670            OUT046   \n",
      "\n",
      "      Outlet_Establishment_Year Outlet_Size Outlet_Location_Type  \\\n",
      "0                          1999      Medium               Tier 1   \n",
      "1                          2009      Medium               Tier 3   \n",
      "2                          1999      Medium               Tier 1   \n",
      "3                          1998         NaN               Tier 3   \n",
      "4                          1987        High               Tier 3   \n",
      "...                         ...         ...                  ...   \n",
      "8518                       1987        High               Tier 3   \n",
      "8519                       2002         NaN               Tier 2   \n",
      "8520                       2004       Small               Tier 2   \n",
      "8521                       2009      Medium               Tier 3   \n",
      "8522                       1997       Small               Tier 1   \n",
      "\n",
      "            Outlet_Type  Item_Outlet_Sales  \n",
      "0     Supermarket Type1          3735.1380  \n",
      "1     Supermarket Type2           443.4228  \n",
      "2     Supermarket Type1          2097.2700  \n",
      "3         Grocery Store           732.3800  \n",
      "4     Supermarket Type1           994.7052  \n",
      "...                 ...                ...  \n",
      "8518  Supermarket Type1          2778.3834  \n",
      "8519  Supermarket Type1           549.2850  \n",
      "8520  Supermarket Type1          1193.1136  \n",
      "8521  Supermarket Type2          1845.5976  \n",
      "8522  Supermarket Type1           765.6700  \n",
      "\n",
      "[8523 rows x 12 columns]\n"
     ]
    }
   ],
   "source": [
    "\"\"\"\n",
    "1. Read the data except the first few rows in the file\n",
    "\"\"\"\n",
    "\n",
    "#import pandas library to read, manipulate and clean the data in python\n",
    "import pandas as pd\n",
    "\n",
    "# big_mart_sales_top_row_error.csv consists of comments in the first few rows\n",
    "# While reading file, pass the parameter skiprows = n (number of rows to skip)\n",
    "\n",
    "data_without_comments = pd.read_csv('../input/samplebigmartdata/big_mart_sales_top_row_error.csv', skiprows = 5 )\n",
    "print(data_without_comments)\n"
   ]
  },
  {
   "cell_type": "code",
   "execution_count": 4,
   "metadata": {},
   "outputs": [
    {
     "name": "stdout",
     "output_type": "stream",
     "text": [
      "../input/salesdata/multi-directory/1999\n",
      "../input/salesdata/multi-directory/1985\n",
      "../input/salesdata/multi-directory/2009\n",
      "../input/salesdata/multi-directory/2002\n",
      "../input/salesdata/multi-directory/1998\n",
      "../input/salesdata/multi-directory/2004\n",
      "../input/salesdata/multi-directory/2007\n",
      "../input/salesdata/multi-directory/1997\n",
      "../input/salesdata/multi-directory/1987\n"
     ]
    }
   ],
   "source": [
    "\"\"\"\n",
    "2. Reading files from multiple directories\n",
    "\"\"\"\n",
    "\n",
    "# Use the glob library to list the files in a dircetory\n",
    "\n",
    "import glob\n",
    "\n",
    "#list all the files in the folder\n",
    "\n",
    "for directory in glob.glob('../input/salesdata/multi-directory/*'):\n",
    "    print(directory)                       "
   ]
  },
  {
   "cell_type": "code",
   "execution_count": 5,
   "metadata": {},
   "outputs": [
    {
     "name": "stdout",
     "output_type": "stream",
     "text": [
      "../input/salesdata/multi-directory/1999/1999.csv\n",
      "../input/salesdata/multi-directory/1985/1985.csv\n",
      "../input/salesdata/multi-directory/2009/2009.csv\n",
      "../input/salesdata/multi-directory/2002/2002.csv\n",
      "../input/salesdata/multi-directory/1998/1998.csv\n",
      "../input/salesdata/multi-directory/2004/2004.csv\n",
      "../input/salesdata/multi-directory/2007/2007.csv\n",
      "../input/salesdata/multi-directory/1997/1997.csv\n",
      "../input/salesdata/multi-directory/1987/1987.csv\n"
     ]
    }
   ],
   "source": [
    "#iterate through multi-directory folder to see the list of csv files inside each sub-folder\n",
    "\n",
    "for directory in glob.glob('../input/salesdata/multi-directory/*'):\n",
    "    for files in glob.glob(directory + '/*'):\n",
    "        print(files)"
   ]
  },
  {
   "cell_type": "code",
   "execution_count": 6,
   "metadata": {},
   "outputs": [
    {
     "name": "stdout",
     "output_type": "stream",
     "text": [
      "     Unnamed: 0 Item_Identifier  Item_Weight Item_Fat_Content  \\\n",
      "0             0           FDA15        9.300          Low Fat   \n",
      "1             2           FDN15       17.500          Low Fat   \n",
      "2            10           FDY07       11.800          Low Fat   \n",
      "3            12           FDX32       15.100          Regular   \n",
      "4            17           FDP49        9.000          Regular   \n",
      "..          ...             ...          ...              ...   \n",
      "927        8462           FDQ31        5.785          Regular   \n",
      "928        8466           FDJ32       10.695          Low Fat   \n",
      "929        8484           DRJ49        6.865          Low Fat   \n",
      "930        8512           FDR26       20.700          Low Fat   \n",
      "931        8518           FDF22        6.865          Low Fat   \n",
      "\n",
      "     Item_Visibility              Item_Type  Item_MRP Outlet_Identifier  \\\n",
      "0           0.016047                  Dairy  249.8092            OUT049   \n",
      "1           0.016760                   Meat  141.6180            OUT049   \n",
      "2           0.000000  Fruits and Vegetables   45.5402            OUT049   \n",
      "3           0.100014  Fruits and Vegetables  145.4786            OUT049   \n",
      "4           0.069196              Breakfast   54.3614            OUT049   \n",
      "..               ...                    ...       ...               ...   \n",
      "927         0.053802  Fruits and Vegetables   85.9856            OUT013   \n",
      "928         0.057744  Fruits and Vegetables   61.2536            OUT013   \n",
      "929         0.000000            Soft Drinks  129.9652            OUT013   \n",
      "930         0.042801                  Dairy  178.3028            OUT013   \n",
      "931         0.056783            Snack Foods  214.5218            OUT013   \n",
      "\n",
      "     Outlet_Establishment_Year Outlet_Size Outlet_Location_Type  \\\n",
      "0                         1999      Medium               Tier 1   \n",
      "1                         1999      Medium               Tier 1   \n",
      "2                         1999      Medium               Tier 1   \n",
      "3                         1999      Medium               Tier 1   \n",
      "4                         1999      Medium               Tier 1   \n",
      "..                         ...         ...                  ...   \n",
      "927                       1987        High               Tier 3   \n",
      "928                       1987        High               Tier 3   \n",
      "929                       1987        High               Tier 3   \n",
      "930                       1987        High               Tier 3   \n",
      "931                       1987        High               Tier 3   \n",
      "\n",
      "           Outlet_Type  Item_Outlet_Sales  \n",
      "0    Supermarket Type1          3735.1380  \n",
      "1    Supermarket Type1          2097.2700  \n",
      "2    Supermarket Type1          1516.0266  \n",
      "3    Supermarket Type1          1589.2646  \n",
      "4    Supermarket Type1           718.3982  \n",
      "..                 ...                ...  \n",
      "927  Supermarket Type1          1494.0552  \n",
      "928  Supermarket Type1           673.7896  \n",
      "929  Supermarket Type1          2324.9736  \n",
      "930  Supermarket Type1          2479.4392  \n",
      "931  Supermarket Type1          2778.3834  \n",
      "\n",
      "[8523 rows x 13 columns]\n"
     ]
    }
   ],
   "source": [
    "#concatenate the files\n",
    "\n",
    "dataframe_list = []\n",
    "\n",
    "#iterate through each folder\n",
    "\n",
    "for directory in glob.glob('../input/salesdata/multi-directory/*'):\n",
    "    \n",
    "    #iterate through each file\n",
    "    \n",
    "    for file in glob.glob(directory + '/*'):\n",
    "        dataframe_list.append(pd.read_csv(file))\n",
    "        \n",
    "# concatenate the dataframes\n",
    "\n",
    "final_data = pd.concat(dataframe_list)\n",
    "print(final_data)\n",
    "\n",
    "\n"
   ]
  },
  {
   "cell_type": "code",
   "execution_count": 7,
   "metadata": {},
   "outputs": [
    {
     "name": "stdout",
     "output_type": "stream",
     "text": [
      "    Unnamed: 0 Item_Identifier  Item_Weight Item_Fat_Content  Item_Visibility  \\\n",
      "0            7           FDP10          NaN          Low Fat         0.127470   \n",
      "1           18           DRI11          NaN          Low Fat         0.034238   \n",
      "2           21           FDW12          NaN          Regular         0.035400   \n",
      "3           23           FDC37          NaN          Low Fat         0.057557   \n",
      "4           29           FDC14          NaN          Regular         0.072222   \n",
      "..         ...             ...          ...              ...              ...   \n",
      "95         497           FDR56          NaN          Regular         0.100278   \n",
      "96         504           FDE53          NaN               LF         0.026750   \n",
      "97         509           DRN36          NaN          Low Fat         0.087855   \n",
      "98         518           FDZ47          NaN          Regular         0.078912   \n",
      "99         519           NCJ54          NaN          Low Fat         0.059776   \n",
      "\n",
      "                Item_Type  Item_MRP Outlet_Identifier  \\\n",
      "0             Snack Foods  107.7622            OUT027   \n",
      "1             Hard Drinks  113.2834            OUT027   \n",
      "2            Baking Goods  144.5444            OUT027   \n",
      "3            Baking Goods  107.6938            OUT019   \n",
      "4                  Canned   43.6454            OUT019   \n",
      "..                    ...       ...               ...   \n",
      "95  Fruits and Vegetables  196.8768            OUT027   \n",
      "96           Frozen Foods  106.9280            OUT027   \n",
      "97            Soft Drinks   95.9752            OUT019   \n",
      "98           Baking Goods   99.9042            OUT027   \n",
      "99              Household  231.7642            OUT027   \n",
      "\n",
      "    Outlet_Establishment_Year Outlet_Size Outlet_Location_Type  \\\n",
      "0                        1985      Medium               Tier 3   \n",
      "1                        1985      Medium               Tier 3   \n",
      "2                        1985      Medium               Tier 3   \n",
      "3                        1985       Small               Tier 1   \n",
      "4                        1985       Small               Tier 1   \n",
      "..                        ...         ...                  ...   \n",
      "95                       1985      Medium               Tier 3   \n",
      "96                       1985      Medium               Tier 3   \n",
      "97                       1985       Small               Tier 1   \n",
      "98                       1985      Medium               Tier 3   \n",
      "99                       1985      Medium               Tier 3   \n",
      "\n",
      "          Outlet_Type  Item_Outlet_Sales  \n",
      "0   Supermarket Type3          4022.7636  \n",
      "1   Supermarket Type3          2303.6680  \n",
      "2   Supermarket Type3          4064.0432  \n",
      "3       Grocery Store           214.3876  \n",
      "4       Grocery Store           125.8362  \n",
      "..                ...                ...  \n",
      "95  Supermarket Type3          7094.7648  \n",
      "96  Supermarket Type3          2876.2560  \n",
      "97      Grocery Store            95.8752  \n",
      "98  Supermarket Type3          3273.7386  \n",
      "99  Supermarket Type3          5344.3766  \n",
      "\n",
      "[100 rows x 13 columns]\n"
     ]
    }
   ],
   "source": [
    "\"\"\"\n",
    "3. Read first 'N' rows when the data is large\n",
    "\"\"\"\n",
    "\n",
    "#specify the number of rows to read\n",
    "\n",
    "read_sample_from_data = pd.read_csv('../input/salesdata/multi-directory/1985/1985.csv', nrows=100)\n",
    "\n",
    "print(read_sample_from_data)\n"
   ]
  },
  {
   "cell_type": "code",
   "execution_count": 8,
   "metadata": {},
   "outputs": [
    {
     "name": "stdout",
     "output_type": "stream",
     "text": [
      "     Item_Identifier              Item_Type  Item_MRP\n",
      "0              FDP10            Snack Foods  107.7622\n",
      "1              DRI11            Hard Drinks  113.2834\n",
      "2              FDW12           Baking Goods  144.5444\n",
      "3              FDC37           Baking Goods  107.6938\n",
      "4              FDC14                 Canned   43.6454\n",
      "...              ...                    ...       ...\n",
      "1458           DRK37            Soft Drinks  189.0530\n",
      "1459           DRG13            Soft Drinks  164.7526\n",
      "1460           NCN14                 Others  184.6608\n",
      "1461           FDU44  Fruits and Vegetables  162.3552\n",
      "1462           NCN18              Household  111.7544\n",
      "\n",
      "[1463 rows x 3 columns]\n"
     ]
    }
   ],
   "source": [
    "\"\"\"\n",
    "4. Read specific columns\n",
    "\n",
    "If the dataset has large number of columns, it is impossible to go through all of them at the same time, so we can read only specific columns at a time\n",
    "\n",
    "\"\"\"\n",
    "\n",
    "read_specific_columns = pd.read_csv('../input/salesdata/multi-directory/1985/1985.csv', usecols=['Item_Identifier', 'Item_Type', 'Item_MRP'])\n",
    "\n",
    "print(read_specific_columns)"
   ]
  }
 ],
 "metadata": {
  "kernelspec": {
   "display_name": "Python 3",
   "language": "python",
   "name": "python3"
  },
  "language_info": {
   "codemirror_mode": {
    "name": "ipython",
    "version": 3
   },
   "file_extension": ".py",
   "mimetype": "text/x-python",
   "name": "python",
   "nbconvert_exporter": "python",
   "pygments_lexer": "ipython3",
   "version": "3.7.6"
  }
 },
 "nbformat": 4,
 "nbformat_minor": 4
}
